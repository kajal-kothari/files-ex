{
  "nbformat": 4,
  "nbformat_minor": 0,
  "metadata": {
    "colab": {
      "provenance": []
    },
    "kernelspec": {
      "name": "python3",
      "display_name": "Python 3"
    },
    "language_info": {
      "name": "python"
    }
  },
  "cells": [
    {
      "cell_type": "markdown",
      "source": [
        " 1 What is the difference between interpreted and compiled languages?\n",
        "\n",
        "Compiled Languages:\n",
        "\n",
        "Compilation Process: In compiled languages, the source code is translated into machine code (binary code) by a compiler before it is executed. This machine code is specific to the target platform (e.g., Windows, Linux).\n",
        "\n",
        "Execution Speed: Since the code is pre-compiled into machine code, compiled languages generally offer faster execution times. The program runs directly on the hardware without the need for further translation.\n",
        "\n",
        "Error Detection: Compilation can catch many errors at compile time, which can help developers identify issues before running the program.\n",
        "\n",
        "Examples: Common compiled languages include C, C++, Rust, and Go.\n",
        "\n",
        "Interpreted Languages:\n",
        "\n",
        "Interpretation Process: In interpreted languages, the source code is executed line-by-line or statement-by-statement by an interpreter at runtime. There is no separate compilation step that produces machine code.\n",
        "\n",
        "Execution Speed: Interpreted languages tend to be slower than compiled languages because the interpreter must translate the code on-the-fly during execution.\n",
        "\n",
        "Flexibility and Portability: Interpreted languages are often more flexible and easier to debug since changes can be made and tested immediately without recompilation. They are also generally more portable across different platforms, as long as an appropriate interpreter is available.\n",
        "\n",
        "Examples: Common interpreted languages include Python, Ruby, JavaScript, and PHP."
      ],
      "metadata": {
        "id": "xYbbV6Ntvnlw"
      }
    },
    {
      "cell_type": "markdown",
      "source": [
        "2. What is exception handling in Python?\n",
        "\n",
        "Exception handling in Python is a mechanism that allows you to manage errors and exceptional conditions that may occur during the execution of a program. Instead of crashing the program when an error occurs, exception handling enables you to gracefully handle the error, allowing the program to continue running or to terminate in a controlled manner.\n",
        "\n",
        "Key Concepts of Exception Handling in Python:\n",
        "\n",
        "Exceptions: An exception is an event that disrupts the normal flow of a program. Common exceptions include ZeroDivisionError, ValueError, TypeError, and FileNotFoundError.\n",
        "\n",
        "Try and Except Blocks: The primary way to handle exceptions in Python is through the use of try and except blocks. Code that may raise an exception is placed inside the try block, and the code that handles the exception is placed inside the except block."
      ],
      "metadata": {
        "id": "WZowax9nv07A"
      }
    },
    {
      "cell_type": "markdown",
      "source": [
        "3.What is the purpose of the finally block in exception handling?\n",
        "\n",
        "The finally block in exception handling in Python is used to define a section of code that will always be executed, regardless of whether an exception was raised or not in the preceding try block. This makes it particularly useful for cleanup actions that need to occur regardless of the outcome of the try block.\n",
        "\n",
        "Key Purposes of the finally Block:\n",
        "Resource Cleanup: The finally block is commonly used to release resources, such as closing files, network connections, or database connections. This ensures that resources are properly released even if an error occurs.\n",
        "\n",
        "Guaranteed Execution: Code within the finally block is guaranteed to execute after the try and except blocks, regardless of whether an exception was raised or handled. This is important for maintaining the integrity of the program and ensuring that necessary cleanup tasks are performed.\n",
        "\n",
        "Handling Critical Cleanup: In scenarios where certain actions must be taken to maintain system stability or integrity (like releasing locks or saving state), the finally block ensures that these actions are not skipped due to an unhandled exception.\n",
        "\n",
        "Combining with Other Blocks: The finally block can be used in conjunction with try, except, and else blocks. The finally block will execute after the try block and any associated except or else blocks."
      ],
      "metadata": {
        "id": "-bHiF4PswMnc"
      }
    },
    {
      "cell_type": "markdown",
      "source": [
        "4. What is logging in Python?\n",
        "\n",
        "Logging in Python is a way to track events that happen when your application runs. It provides a means to record messages that can help you understand the flow of your program, diagnose issues, and monitor the application's behavior. The built-in logging module in Python offers a flexible framework for emitting log messages from Python programs.\n",
        "\n",
        "Key Features of Logging in Python:\n",
        "Log Levels: The logging module defines several log levels that indicate the severity of the messages. The standard levels, in increasing order of severity, are:\n",
        "\n",
        "DEBUG: Detailed information, typically of interest only when diagnosing problems.\n",
        "\n",
        "INFO: Confirmation that things are working as expected.\n",
        "\n",
        "WARNING: An indication that something unexpected happened, or indicative of some problem in the near future (e.g., ‘disk space low’).\n",
        "\n",
        "ERROR: Due to a more serious problem, the software has not been able to perform a function.\n",
        "\n",
        "CRITICAL: A very serious error, indicating that the program itself may be unable to continue running.\n",
        "\n",
        "Loggers: A logger is an object that you use to log messages. You can create multiple loggers for different parts of your application, allowing you to control the logging output more granularly.\n",
        "\n",
        "Handlers: Handlers send the log messages to their final destination. The logging module provides several built-in handlers, such as:\n",
        "\n",
        "StreamHandler: Sends log messages to the console (standard output).\n",
        "\n",
        "FileHandler: Writes log messages to a file.\n",
        "SMTPHandler: Sends log messages via email.\n",
        "HTTPHandler: Sends log messages to a web server.\n",
        "\n",
        "Formatters: Formatters define the layout of the log messages. You can customize the format to include information such as the timestamp, log level, logger name, and the actual log message.\n",
        "\n",
        "Configuration: The logging module can be configured programmatically or through configuration files (e.g., using .ini or .yaml formats). This allows for flexible logging setups without changing the code."
      ],
      "metadata": {
        "id": "daQGMN3TwhZO"
      }
    },
    {
      "cell_type": "markdown",
      "source": [
        "5 What is the significance of the __del__ method in Python?\n",
        "\n",
        "The __del__ method in Python is a special method, also known as a destructor, that is called when an object is about to be destroyed. It is part of Python's object-oriented programming model and is used to define cleanup actions that should be performed when an object is no longer needed.\n",
        "\n",
        "Significance of the __del__ Method:\n",
        "\n",
        "* Resource Management: The primary purpose of the __del__ method is to allow for the release of resources that the object may be holding, such as file handles, network connections, or database connections. This is particularly important in cases where the automatic garbage collection may not immediately free up resources.\n",
        "\n",
        "* Custom Cleanup Logic: You can implement custom cleanup logic in the __del__ method. This can include logging, notifying other parts of the program, or performing any other necessary finalization steps.\n",
        "\n",
        "* Automatic Invocation: The __del__ method is automatically invoked when an object’s reference count drops to zero, meaning there are no more references to the object. This can happen when the object goes out of scope or is explicitly deleted using the del statement.\n",
        "\n"
      ],
      "metadata": {
        "id": "akHM6z1JxFeS"
      }
    },
    {
      "cell_type": "markdown",
      "source": [
        "6. What is the difference between import and from ... import in Python?\n",
        "\n",
        "In Python, both import and from ... import are used to include modules in your code, but they do so in different ways and have different implications for how you access the functions, classes, or variables defined in those modules. Here’s a breakdown of the differences:\n",
        "\n",
        "*  Namespace\n",
        "\n",
        "import:\n",
        " When you use import, the module is loaded into your namespace, and you must use the module name to access its contents. This helps avoid naming conflicts since you can have multiple modules with the same function names.\n",
        "\n",
        "from ...\n",
        "import: When you use from ... import, the specified attributes are loaded directly into your current namespace. This means you can use them without the module prefix, but it can lead to naming conflicts if different modules have attributes with the same name.\n",
        "\n",
        "* Importing Multiple Items\n",
        "\n",
        "import: You can import multiple modules, but you still need to use the module name for each function or class.\n",
        "\n",
        "from ... import: You can import multiple items from a module in a single statement.\n",
        "\n"
      ],
      "metadata": {
        "id": "RSW2KIZGxfxm"
      }
    },
    {
      "cell_type": "markdown",
      "source": [
        "7.How can you handle multiple exceptions in Python?\n",
        "\n",
        "In Python, you can handle multiple exceptions using several approaches. This allows you to manage different types of errors that may arise during the execution of your code. Here are the common methods to handle multiple exceptions:\n",
        "\n",
        "1. Multiple except Blocks\n",
        "You can specify multiple except blocks to handle different exceptions separately. This allows you to define specific handling logic for each type of exception.\n",
        "\n",
        "2. Single except Block for Multiple Exceptions\n",
        "You can also handle multiple exceptions in a single except block by specifying a tuple of exception types. This is useful when you want to execute the same handling logic for different exceptions.\n",
        "\n",
        "3. Using as to Capture the Exception\n",
        "When handling exceptions, you can use the as keyword to capture the exception object. This allows you to access the exception details and use them in your error handling logic."
      ],
      "metadata": {
        "id": "70YRfQ_7yC8z"
      }
    },
    {
      "cell_type": "markdown",
      "source": [
        "8.What is the purpose of the with statement when handling files in Python?\n",
        "\n",
        "the with statement in Python is used to wrap the execution of a block of code within methods defined by a context manager. When handling files, the with statement provides a convenient and efficient way to manage file resources, ensuring that files are properly opened and closed without requiring explicit calls to close them.\n",
        "\n",
        "- Purpose of the with Statement in File Handling:\n",
        "\n",
        "* Automatic Resource Management: The primary purpose of the with statement is to ensure that resources are properly managed. When you open a file using the with statement, the file is automatically closed when the block of code is exited, even if an error occurs. This helps prevent resource leaks and ensures that file handles are not left open.\n",
        "\n",
        "* Cleaner Code: Using the with statement leads to cleaner and more readable code. It reduces the amount of boilerplate code needed for opening and closing files, making it easier to understand the flow of the program.\n",
        "\n",
        " * Exception Safety: If an exception occurs within the with block, the file will still be closed properly. This is particularly important for file operations, as failing to close a file can lead to data corruption or other issues."
      ],
      "metadata": {
        "id": "52BsZcxCydrT"
      }
    },
    {
      "cell_type": "markdown",
      "source": [
        "9. What is the difference between multithreading and multiprocessing?\n",
        "\n",
        "Multithreading and multiprocessing are two approaches to achieving concurrent execution in programming, but they differ significantly in their design, implementation, and use cases. Here’s a detailed comparison of the two:\n",
        "\n",
        "1. Definition\n",
        "\n",
        "* Multithreading: This involves multiple threads within a single process. Threads share the same memory space and resources of the process, allowing for lightweight context switching and communication between threads. It is often used for tasks that are I/O-bound, such as network operations or file handling.\n",
        "\n",
        "* Multiprocessing: This involves multiple processes, each with its own memory space and resources. Processes do not share memory, which makes them more isolated from each other. Multiprocessing is typically used for CPU-bound tasks that require significant computation, as it can take advantage of multiple CPU cores.\n",
        "\n",
        "2. Memory Usage\n",
        "\n",
        "* Multithreading: Threads share the same memory space of the parent process, which makes memory usage more efficient. However, this can lead to issues such as race conditions if multiple threads access shared data simultaneously.\n",
        "\n",
        "* Multiprocessing: Each process has its own memory space, which means that memory usage can be higher. However, this isolation helps prevent issues related to shared state, making it easier to avoid race conditions.\n",
        "\n",
        "3. Performance\n",
        "* Multithreading: Because threads share the same memory space, context switching between threads is generally faster than between processes. However, due to the Global Interpreter Lock (GIL) in CPython (the standard Python implementation), multithreading may not provide significant performance improvements for CPU-bound tasks.\n",
        "\n",
        "* Multiprocessing: Each process runs independently and can utilize multiple CPU cores, making it more suitable for CPU-bound tasks. It can achieve true parallelism, as processes can run on separate cores without being affected by the GIL."
      ],
      "metadata": {
        "id": "ag_vykory5K0"
      }
    },
    {
      "cell_type": "markdown",
      "source": [
        "10 What are the advantages of using logging in a program?\n",
        "\n",
        "Using logging in a program offers several advantages that enhance the development, debugging, and maintenance processes. Here are some key benefits of implementing logging:\n",
        "\n",
        "1. Debugging and Troubleshooting\n",
        "\n",
        "* Detailed Insights: Logging provides detailed information about the program's execution flow, which can help identify where and why errors occur. This is especially useful in complex applications where tracking down issues can be challenging.\n",
        "* Error Tracking: By logging exceptions and errors, developers can quickly pinpoint the source of problems and understand the context in which they occurred.\n",
        "2. Monitoring and Performance Analysis\n",
        "* Real-Time Monitoring: Logging allows for real-time monitoring of application behavior, which can be crucial for identifying performance bottlenecks or unexpected behavior during runtime.\n",
        "* Performance Metrics: You can log performance metrics (e.g., execution time of functions) to analyze and optimize the performance of your application.\n",
        "\n",
        "3. Audit Trails\n",
        "\n",
        "* Accountability: Logging can create an audit trail of actions taken by users or the system, which is important for security and compliance purposes. This is particularly relevant in applications that handle sensitive data or require regulatory compliance.\n",
        "\n",
        "* User Activity Tracking: By logging user actions, you can analyze usage patterns and improve user experience based on actual behavior."
      ],
      "metadata": {
        "id": "nCVWUTQuzSjy"
      }
    },
    {
      "cell_type": "markdown",
      "source": [
        "11. What is memory management in Python?\n",
        "\n",
        "Memory management in Python refers to the process of allocating, using, and freeing memory during the execution of a program. Python has a built-in memory management system that handles memory allocation and deallocation automatically, allowing developers to focus on writing code without worrying about low-level memory management details. Here are the key aspects of memory management in Python:\n",
        "\n",
        "1. Automatic Memory Management\n",
        "\n",
        "Python uses automatic memory management, which means that the programmer does not need to manually allocate and deallocate memory. This is primarily achieved through a combination of reference counting and garbage collection.\n",
        "\n",
        "2. Reference Counting\n",
        "\n",
        "How It Works: Each object in Python maintains a count of references to it. When an object is created, its reference count is set to one. Whenever a new reference to the object is created, the count is incremented. Conversely, when a reference is deleted or goes out of scope, the count is decremented.\n",
        "\n",
        "Deallocation: When the reference count of an object reaches zero (i.e., there are no more references to it), the memory occupied by that object is automatically deallocated.\n",
        "\n",
        "3. Garbage Collection\n",
        "\n",
        "Cycle Detection: While reference counting is effective, it cannot handle circular references (where two or more objects reference each other). To address this, Python includes a garbage collector that periodically checks for and collects objects that are no longer reachable, even if they are part of a reference cycle.\n",
        "\n",
        "Generational Approach: Python’s garbage collector uses a generational approach, categorizing objects into three generations based on their lifespan. New objects are placed in the first generation, and if they survive a garbage collection cycle, they are promoted to the next generation. This approach optimizes performance by focusing on younger objects, which are more likely to become unreachable."
      ],
      "metadata": {
        "id": "uoLHV0abzxAN"
      }
    },
    {
      "cell_type": "markdown",
      "source": [
        "12. What are the basic steps involved in exception handling in Python?\n",
        "\n",
        "Exception handling in Python is a structured way to manage errors and exceptional conditions that may arise during the execution of a program. The basic steps involved in exception handling in Python are as follows:\n",
        "\n",
        "1. Use a Try Block\n",
        "\n",
        "Wrap the code that may potentially raise an exception in a try block. This block contains the code you want to monitor for exceptions.\n",
        "\n",
        "2. Catch Exceptions with Except Blocks\n",
        "After the try block, use one or more except blocks to catch and handle specific exceptions. You can specify the type of exception you want to catch, allowing you to define different handling logic for different types of errors.\n",
        "\n",
        "3. Optional Else Block\n",
        "You can include an optional else block after the except blocks. The code inside the else block will execute if the code in the try block does not raise any exceptions. This is useful for code that should only run when no errors occur.\n"
      ],
      "metadata": {
        "id": "2Nn2RRpz0SvZ"
      }
    },
    {
      "cell_type": "markdown",
      "source": [
        "13 Why is memory management important in Python?\n",
        "Memory management is a critical aspect of programming in Python (and in any programming language) for several reasons. Here are some key points highlighting the importance of memory management in Python:\n",
        "\n",
        "\n",
        "1. Efficient Resource Utilization\n",
        "\n",
        "* Optimal Memory Usage: Proper memory management ensures that your program uses memory efficiently, which is crucial for performance, especially in applications that handle large datasets or require significant computational resources\n",
        "\n",
        "* Avoiding Memory Waste: By managing memory effectively, you can minimize memory waste, which can lead to better performance and lower operational costs, particularly in environments with limited resources.\n",
        "\n",
        "2. Preventing Memory Leaks\n",
        "\n",
        "* Memory Leaks: A memory leak occurs when a program allocates memory but fails to release it when it is no longer needed. This can lead to increased memory usage over time, eventually causing the program to slow down or crash.\n",
        "\n",
        "* Long-Running Applications: In long-running applications, such as web servers or data processing systems, memory leaks can accumulate and lead to significant performance degradation or system failures. Effective memory management helps prevent these issues.\n",
        "\n",
        "3. Improving Performance\n",
        "\n",
        "* Speed: Efficient memory management can improve the speed of your application. When memory is allocated and deallocated properly, it reduces the overhead associated with memory operations, leading to faster execution times.\n",
        "\n",
        " * Concurrency: In multi-threaded or multi-process applications, proper memory management is essential to avoid contention and ensure that resources are available when needed, which can enhance overall performance.\n",
        "4. Stability and Reliability\n",
        "\n",
        "* Error Prevention: Poor memory management can lead to errors such as segmentation faults, crashes, or unpredictable  behavior. By managing memory effectively, you can reduce the likelihood of such errors and improve the stability of your application.\n",
        "\n",
        "* Robustness: Applications that handle memory well are generally more robust and can handle unexpected conditions gracefully, leading to a better user experience."
      ],
      "metadata": {
        "id": "wTXM5QeJ0qw_"
      }
    },
    {
      "cell_type": "markdown",
      "source": [
        "14. What is the role of try and except in exception handling?\n",
        "\n",
        "In Python, the try and except blocks play a crucial role in exception handling by allowing developers to manage errors and exceptional conditions that may arise during the execution of a program. Here’s a detailed explanation of their roles:\n",
        "\n",
        "1. The try Block\n",
        "\n",
        "* Purpose: The try block is used to wrap code that may potentially raise an exception. It allows you to define a section of code to be monitored for errors.\n",
        "\n",
        "* Execution: When the code inside the try block is executed, Python checks for any exceptions that may occur. If an exception is raised, the normal flow of execution is interrupted, and control is transferred to the corresponding except block.\n",
        "\n",
        "2. The except Block\n",
        "\n",
        "* Purpose: The except block is used to catch and handle exceptions that are raised in the associated try block. It allows you to define how your program should respond to specific errors.\n",
        "\n",
        "* Exception Handling: When an exception occurs in the try block, Python looks for the first matching except block to handle the exception. If a matching except block is found, the code inside that block is executed.\n",
        "\n",
        "* Multiple Exceptions: You can specify different types of exceptions to catch, allowing for tailored error handling based on the type of error encountered.\n",
        "\n",
        "3. Flow of Control\n",
        "\n",
        "* Normal Execution: If no exceptions occur in the try block, the code in the except block is skipped, and the program continues executing the code that follows the try-except structure.\n",
        "\n",
        "* Exception Occurrence: If an exception occurs, the control flow jumps to the corresponding except block, allowing you to handle the error gracefully without crashing the program."
      ],
      "metadata": {
        "id": "Up2G6Nur1Vma"
      }
    },
    {
      "cell_type": "markdown",
      "source": [
        "15. How does Python's garbage collection system work?\n",
        "Python's garbage collection system is responsible for automatically managing memory allocation and deallocation, ensuring that memory is efficiently used and that objects that are no longer needed are properly cleaned up. Here’s an overview of how Python's garbage collection system works:\n",
        "\n",
        "1. Reference Counting\n",
        "\n",
        "* Basic Mechanism: Python primarily uses a technique called reference counting to manage memory. Each object in Python maintains a count of references to it. When an object is created, its reference count is set to one. Whenever a new reference to the object is created, the count is incremented. Conversely, when a reference is deleted or goes out of scope, the count is decremented.\n",
        "\n",
        "* Deallocation: When the reference count of an object reaches zero (i.e., there are no more references to it), the memory occupied by that object is automatically deallocated. This is a straightforward and efficient way to manage memory for most cases.\n",
        "\n",
        "2. Garbage Collection for Circular References\n",
        "\n",
        "* Limitations of Reference Counting: While reference counting is effective, it cannot handle circular references. A circular reference occurs when two or more objects reference each other, creating a cycle. In such cases, even if there are no external references to the objects, their reference counts will never reach zero, leading to memory leaks.\n",
        "\n",
        "* Garbage Collector: To address this limitation, Python includes a garbage collector that can detect and collect objects involved in circular references. The garbage collector is part of the gc module and operates in the background.\n",
        "\n",
        "3. Generational Garbage Collection\n",
        "\n",
        "* Generational Approach: Python's garbage collector uses a generational approach, categorizing objects into three generations based on their lifespan:\n",
        "\n",
        "* Generation 0: Newly created objects are placed in this generation. This generation is collected most frequently because most objects are short-lived.\n",
        "\n",
        "* Generation 1: Objects that survive a collection in Generation 0 are promoted to Generation 1.\n",
        "\n",
        "* Generation 2: Objects that survive collections in Generation 1 are promoted to Generation 2. This generation is collected less frequently, as it is assumed that long-lived objects are less likely to become unreachable.\n"
      ],
      "metadata": {
        "id": "OwPM8FPw154n"
      }
    },
    {
      "cell_type": "markdown",
      "source": [
        "16. What is the purpose of the else block in exception handling?\n",
        "\n",
        "In Python's exception handling mechanism, the else block serves a specific purpose that complements the try and except blocks. Here’s an overview of the purpose and functionality of the else block in exception handling:\n",
        "\n",
        "Purpose of the else Block\n",
        "\n",
        "1 Execute Code When No Exceptions Occur:\n",
        "\n",
        "* The primary purpose of the else block is to define a section of code that should run only if the code in the try block does not raise any exceptions. This allows you to separate the normal execution flow from the error handling flow.\n",
        "\n",
        "2 Improved Readability:\n",
        "\n",
        "* By using an else block, you can make your code clearer and more readable. It explicitly indicates that the code within the else block is intended to run only when the try block is successful, enhancing the logical structure of your exception handling.\n",
        "\n",
        "3 Avoiding Unintended Exception Handling:\n",
        "\n",
        "* If you place code that should only run when no exceptions occur directly after the try and except blocks, it can lead to confusion. If an exception is raised in that code, it will not be handled by the except block, potentially leading to unhandled exceptions. The else block helps avoid this issue by clearly delineating the code that should only execute when no exceptions have occurred."
      ],
      "metadata": {
        "id": "vx21fJ102oGD"
      }
    },
    {
      "cell_type": "markdown",
      "source": [
        "17.What are the common logging levels in Python?\n",
        "\n",
        "In Python, the built-in logging module provides a flexible framework for emitting log messages from Python programs. The logging module defines several standard logging levels, which indicate the severity or importance of the messages being logged. Here are the common logging levels in Python, listed in order of increasing severity:\n",
        "\n",
        "1. DEBUG\n",
        "\n",
        "* Level: 10\n",
        "* Description: This level is used for detailed diagnostic output, typically of interest only when diagnosing problems. It is the lowest level of logging and is useful for developers to understand the flow of the application and the state of variables.\n",
        "* Usage: logging.debug(\"This is a debug message\")\n",
        "\n",
        "2. INFO\n",
        "* Level: 20\n",
        "* Description: This level is used for informational messages that highlight the progress of the application at a high level. It is useful for tracking the general flow of the application and confirming that things are working as expected\n",
        "* Usage: logging.info(\"This is an info message\")\n",
        "\n",
        "3. WARNING\n",
        "\n",
        "* Level: 30\n",
        "* Description: This level indicates that something unexpected happened or that there may be a problem in the near future (e.g., 'disk space low'). It is used to signal potential issues that do not necessarily stop the program from running.\n",
        "* Usage: logging.warning(\"This is a warning message\")\n",
        "\n",
        "4. ERROR\n",
        "\n",
        "* Level: 40\n",
        "* Description: This level indicates a more serious problem that prevented the program from performing a function. It is used to log errors that occur during execution, which may require attention.\n",
        "* Usage: logging.error(\"This is an error message\")\n",
        "\n",
        "5. CRITICAL\n",
        "* Level: 50\n",
        "* Description: This level indicates a very serious error that may prevent the program from continuing to run. It is used for critical issues that require immediate attention.\n",
        "* Usage: logging.critical(\"This is a critical message\")"
      ],
      "metadata": {
        "id": "FFt_q2_M3K65"
      }
    },
    {
      "cell_type": "markdown",
      "source": [
        "18. What is the difference between os.fork() and multiprocessing in Python?\n",
        "\n",
        "In Python, both os.fork() and the multiprocessing module are used to create new processes, but they have different purposes, behaviors, and use cases. Here’s a detailed comparison of the two:\n",
        "\n",
        "1. os.fork()\n",
        "\n",
        "Definition: os.fork() is a low-level function provided by the os module that creates a new process by duplicating the calling process. The new process is called the child process, and the original process is the parent process.\n",
        "\n",
        "Behavior:\n",
        "\n",
        "* When os.fork() is called, it creates a new process that is a copy of the current process. Both processes will execute the code following the fork() call.\n",
        "* The return value of os.fork() is different in the parent and child processes:\n",
        "\n",
        "* In the parent process, it returns the child's process ID (PID).\n",
        "* In the child process, it returns 0.\n",
        "The child process inherits the parent's memory space, file descriptors, and other resources.\n",
        "* Use Case: os.fork() is typically used in Unix-like operating systems for creating child processes. It is a lower-level operation and requires careful management of resources and inter-process communication (IPC).\n",
        "\n",
        "2. multiprocessing Module\n",
        "\n",
        "Definition: The multiprocessing module is a higher-level module in Python that provides a more convenient and platform-independent way to create and manage processes. It abstracts away the complexities of process creation and management.\n",
        "\n",
        "Behavior:\n",
        "\n",
        "The multiprocessing module allows you to create new processes using the Process class. Each process runs independently and can execute a target function.\n",
        "\n",
        "It provides built-in support for inter-process communication (IPC) through pipes and queues, as well as shared memory.\n",
        "\n",
        "The multiprocessing module works on both Unix-like systems and Windows, making it more portable.\n",
        "\n",
        "Use Case: The multiprocessing module is suitable for parallel processing tasks, where you want to run multiple tasks concurrently, especially in CPU-bound applications."
      ],
      "metadata": {
        "id": "ALJJru9B9s0x"
      }
    },
    {
      "cell_type": "markdown",
      "source": [
        "19.  What is the importance of closing a file in Python?\n",
        "\n",
        "Closing a file in Python is an important practice for several reasons:\n",
        "\n",
        "Resource Management: When you open a file, the operating system allocates resources to manage that file. Closing the file releases those resources, making them available for other processes or applications. If files are not closed properly, it can lead to resource leaks, which may eventually exhaust system resources.\n",
        "\n",
        "Data Integrity: When writing to a file, data may be buffered in memory before it is actually written to disk. Closing the file ensures that all buffered data is flushed and written to the file. If a file is not closed properly, you risk losing data or corrupting the file.\n",
        "\n",
        "Avoiding File Locks: Some operating systems may lock files when they are open. If a file remains open, other processes may be unable to access it, leading to potential deadlocks or access issues.\n",
        "\n",
        "Error Handling: Closing a file explicitly can help in error handling. If an error occurs while working with a file, closing it properly can help ensure that the program can recover gracefully.\n",
        "\n",
        "Best Practices: Closing files is considered a best practice in programming. It makes your code cleaner and more predictable, and it helps prevent bugs related to file handling."
      ],
      "metadata": {
        "id": "qraNFtLsSM5v"
      }
    },
    {
      "cell_type": "markdown",
      "source": [
        "20. What is the difference between file.read() and file.readline() in Python?\n",
        "\n",
        "In Python, file.read() and file.readline() are two methods used to read data from a file, but they operate differently in terms of how they retrieve the content. Here’s a breakdown of the differences:\n",
        "\n",
        "file.read()\n",
        "\n",
        "Purpose: Reads the entire content of the file at once.\n",
        "\n",
        "Return Value: Returns the entire file content as a single string.\n",
        "\n",
        "Usage: Useful when you want to load the whole file into memory for processing.\n",
        "\n",
        "file.readline()\n",
        "\n",
        "Purpose: Reads a single line from the file at a time.\n",
        "\n",
        "Return Value: Returns the next line from the file as a string, including the newline character (\\n) at the end of the line.\n",
        "\n",
        "Usage: Useful for processing files line by line, especially when dealing with large files where loading the entire content into memory would be inefficient."
      ],
      "metadata": {
        "id": "79rj7UlTSd_V"
      }
    },
    {
      "cell_type": "markdown",
      "source": [
        "21.What is the logging module in Python used for?\n",
        "\n",
        "Different Log Levels: The logging module provides several log levels to categorize messages based on their severity:\n",
        "\n",
        "DEBUG: Detailed information, typically of interest only when diagnosing problems.\n",
        "\n",
        "INFO: Confirmation that things are working as expected.\n",
        "\n",
        "WARNING: An indication that something unexpected happened, or indicative of some problem in the near future (e.g., ‘disk space low’).\n",
        "\n",
        "ERROR: Due to a more serious problem, the software has not been able to perform a function.\n",
        "\n",
        "CRITICAL: A very serious error, indicating that the program itself may be unable to continue running.\n",
        "\n",
        "Configurable Output: You can configure where the log messages go (console, files, remote servers, etc.) and how they are formatted. This includes timestamps, log levels, and custom messages.\n",
        "\n",
        "Hierarchical Logging: The logging system is hierarchical, allowing you to create loggers that inherit settings from parent loggers. This is useful for organizing logging in larger applications.\n"
      ],
      "metadata": {
        "id": "GHogPoneS0vX"
      }
    },
    {
      "cell_type": "markdown",
      "source": [
        "22.What is the os module in Python used for in file handling?\n",
        "\n",
        "1 File and Directory Manipulation:\n",
        "\n",
        "Creating Directories: You can create new directories using os.mkdir() or os.makedirs().\n",
        "\n",
        "Removing Directories: You can remove directories with os.rmdir() (for empty directories) or os.removedirs() (for nested directories).\n",
        "\n",
        "Removing Files: Use os.remove() to delete a file.\n",
        "\n",
        "2 Path Manipulation:\n",
        "\n",
        "Joining Paths: Use os.path.join() to construct file paths in a way that is compatible with the operating system.\n",
        "\n",
        "Getting Absolute Paths: Use os.path.abspath() to get the absolute path of a file.\n",
        "\n",
        "Checking Existence: Use os.path.exists() to check if a file or directory exists.\n",
        "\n",
        "Checking File Type: Use os.path.isfile() and os.path.isdir() to check if a path is a file or a directory, respectively.\n",
        "\n",
        "3 File Information:\n",
        "\n",
        "Getting File Size: Use os.path.getsize() to get the size of a file in bytes.\n",
        "Getting Modification Time: Use os.path.getmtime() to get the last modification time of a file.\n",
        "\n",
        "4 Changing the Current Working Directory:\n",
        "\n",
        "Use os.chdir() to change the current working directory of the process.\n",
        "Listing Directory Contents:"
      ],
      "metadata": {
        "id": "eom7xsnjTORc"
      }
    },
    {
      "cell_type": "markdown",
      "source": [
        "23 What are the challenges associated with memory management in Python?\n",
        "\n",
        "Memory management in Python, while largely automated through its built-in garbage collection and memory management mechanisms, still presents several challenges. Here are some of the key challenges associated with memory management in Python:\n",
        "\n",
        "1. Garbage Collection Overhead\n",
        "Automatic Garbage Collection:\n",
        " Python uses a garbage collector to manage memory, which can introduce overhead. The garbage collector periodically checks for and frees unused objects, which can lead to performance issues, especially in memory-intensive applications.\n",
        "\n",
        "Reference Counting: Python primarily uses reference counting for memory management. When an object's reference count drops to zero, it is immediately deallocated. However, this can lead to issues with circular references, where two or more objects reference each other, preventing their reference counts from reaching zero.\n",
        "\n",
        "2. Memory Leaks\n",
        "\n",
        "Circular References:\n",
        "As mentioned, circular references can lead to memory leaks because the garbage collector may not be able to reclaim memory used by objects that reference each other.\n",
        "\n",
        "Unreleased Resources: If resources such as file handles, network connections, or database connections are not properly released, they can lead to memory leaks and exhaustion of system resources."
      ],
      "metadata": {
        "id": "qVjlOXLPUPh0"
      }
    },
    {
      "cell_type": "markdown",
      "source": [
        "24. How do you raise an exception manually in Python?\n",
        "\n",
        "In Python, you can raise an exception manually using the raise statement. This allows you to trigger an exception intentionally, which can be useful for error handling, validation, or signaling that something unexpected has occurred in your code."
      ],
      "metadata": {
        "id": "9Myg9rXbUkqY"
      }
    },
    {
      "cell_type": "markdown",
      "source": [
        "25..1F Why is it important to use multithreading in certain applications?\n",
        "\n",
        "Multithreading is an important programming concept that allows multiple threads to run concurrently within a single process. It can significantly enhance the performance and responsiveness of certain applications. Here are several reasons why multithreading is important in specific applications:\n",
        "\n",
        "1. Improved Responsiveness\n",
        "\n",
        "User Interfaces: In applications with graphical user interfaces (GUIs), multithreading allows the UI to remain responsive while performing long-running tasks in the background. For example, a file download can occur in a separate thread, allowing the user to continue interacting with the application.\n",
        "\n",
        "2. Concurrent Execution\n",
        "\n",
        "Parallel Tasks: Multithreading enables concurrent execution of tasks, which can lead to better resource utilization. For example, a web server can handle multiple client requests simultaneously, improving throughput and performance.\n",
        "\n",
        "3. Resource Sharing\n",
        "\n",
        "Shared Memory: Threads within the same process share the same memory space, making it easier to share data and resources compared to separate processes. This can lead to lower overhead and faster communication between threads."
      ],
      "metadata": {
        "id": "4rkbbNC-U0NI"
      }
    },
    {
      "cell_type": "code",
      "source": [
        "#1 How can you open a file for writing in Python and write a string to it\u001f\n",
        "# Open a file for writing\n",
        "with open('example.txt', 'w') as file:\n",
        "    # Write a string to the file\n",
        "    file.write(\"Hello, World!\\n\")\n",
        "    file.write(\"This is a test string.\\n\")\n",
        "\n",
        "# The file is automatically closed when exiting the 'with' block"
      ],
      "metadata": {
        "id": "D3HVPmFAVcW8"
      },
      "execution_count": 1,
      "outputs": []
    },
    {
      "cell_type": "code",
      "source": [
        "#2. Write a Python program to read the contents of a file and print each line?\n",
        "# Specify the filename\n",
        "filename = 'example.txt'\n",
        "\n",
        "# Open the file for reading\n",
        "try:\n",
        "    with open(filename, 'r') as file:\n",
        "        # Read and print each line in the file\n",
        "        for line in file:\n",
        "            print(line, end='')  # Use end='' to avoid adding extra newlines\n",
        "except FileNotFoundError:\n",
        "    print(f\"The file '{filename}' does not exist.\")\n",
        "except Exception as e:\n",
        "    print(f\"An error occurred: {e}\")"
      ],
      "metadata": {
        "colab": {
          "base_uri": "https://localhost:8080/"
        },
        "id": "XqRd7PsrVnCF",
        "outputId": "193d3b51-c610-469b-85e6-44b2791b279e"
      },
      "execution_count": 2,
      "outputs": [
        {
          "output_type": "stream",
          "name": "stdout",
          "text": [
            "Hello, World!\n",
            "This is a test string.\n"
          ]
        }
      ]
    },
    {
      "cell_type": "code",
      "source": [
        "#3  How would you handle a case where the file doesn't exist while trying to open it for reading?\n",
        "\n",
        "# Specify the filename\n",
        "filename = 'example.txt'\n",
        "\n",
        "# Attempt to open the file for reading\n",
        "try:\n",
        "    with open(filename, 'r') as file:\n",
        "        # Read and print each line in the file\n",
        "        for line in file:\n",
        "            print(line, end='')  # Use end='' to avoid adding extra newlines\n",
        "except FileNotFoundError:\n",
        "    print(f\"The file '{filename}' does not exist.\")\n",
        "except Exception as e:\n",
        "    print(f\"An error occurred: {e}\")"
      ],
      "metadata": {
        "colab": {
          "base_uri": "https://localhost:8080/"
        },
        "id": "IU3lYdl9V2aV",
        "outputId": "2449aeb7-dfc6-4264-ed6b-02cb4833b88a"
      },
      "execution_count": 4,
      "outputs": [
        {
          "output_type": "stream",
          "name": "stdout",
          "text": [
            "Hello, World!\n",
            "This is a test string.\n"
          ]
        }
      ]
    },
    {
      "cell_type": "code",
      "source": [
        "#4. Write a Python script that reads from one file and writes its content to another fileF\n",
        "# Specify the source and destination filenames\n",
        "source_filename = 'source.txt'\n",
        "destination_filename = 'destination.txt'\n",
        "\n",
        "try:\n",
        "    # Open the source file for reading\n",
        "    with open(source_filename, 'r') as source_file:\n",
        "        # Open the destination file for writing\n",
        "        with open(destination_filename, 'w') as destination_file:\n",
        "            # Read from the source file and write to the destination file\n",
        "            for line in source_file:\n",
        "                destination_file.write(line)\n",
        "\n",
        "    print(f\"Contents of '{source_filename}' have been written to '{destination_filename}'.\")\n",
        "\n",
        "except FileNotFoundError:\n",
        "    print(f\"The file '{source_filename}' does not exist.\")\n",
        "except Exception as e:\n",
        "    print(f\"An error occurred: {e}\")"
      ],
      "metadata": {
        "colab": {
          "base_uri": "https://localhost:8080/"
        },
        "id": "-MLLCVxsWA4k",
        "outputId": "ba40b44e-13d8-478f-a80e-2f97832c0689"
      },
      "execution_count": 5,
      "outputs": [
        {
          "output_type": "stream",
          "name": "stdout",
          "text": [
            "The file 'source.txt' does not exist.\n"
          ]
        }
      ]
    },
    {
      "cell_type": "code",
      "source": [
        "#5 How would you catch and handle division by zero error in Python?\n",
        "def divide_numbers(a, b):\n",
        "    try:\n",
        "        result = a / b  # Attempt to divide\n",
        "        print(f\"The result of {a} divided by {b} is {result}.\")\n",
        "    except ZeroDivisionError:\n",
        "        print(\"Error: Division by zero is not allowed. Please provide a non-zero denominator.\")\n",
        "    except Exception as e:\n",
        "        print(f\"An unexpected error occurred: {e}\")\n",
        "\n",
        "# Test the function\n",
        "divide_numbers(10, 2)  # Valid division\n",
        "divide_numbers(10, 0)  # Division by zero"
      ],
      "metadata": {
        "colab": {
          "base_uri": "https://localhost:8080/"
        },
        "id": "BolIfM0PWMor",
        "outputId": "4738c13d-3a7a-4bf6-cfbb-2e74ece26aaf"
      },
      "execution_count": 1,
      "outputs": [
        {
          "output_type": "stream",
          "name": "stdout",
          "text": [
            "The result of 10 divided by 2 is 5.0.\n",
            "Error: Division by zero is not allowed. Please provide a non-zero denominator.\n"
          ]
        }
      ]
    },
    {
      "cell_type": "code",
      "source": [
        "#6 Write a Python program that logs an error message to a log file when a division by zero exception occurs?\n",
        "import logging\n",
        "\n",
        "# Configure the logging\n",
        "logging.basicConfig(filename='error.log', level=logging.ERROR,\n",
        "                    format='%(asctime)s - %(levelname)s - %(message)s')\n",
        "\n",
        "def divide_numbers(a, b):\n",
        "    try:\n",
        "        result = a / b  # Attempt to divide\n",
        "        print(f\"The result of {a} divided by {b} is {result}.\")\n",
        "    except ZeroDivisionError:\n",
        "        error_message = \"Error: Division by zero is not allowed.\"\n",
        "        print(error_message)  # Print to console\n",
        "        logging.error(error_message)  # Log the error message to the log file\n",
        "    except Exception as e:\n",
        "        unexpected_error_message = f\"An unexpected error occurred: {e}\"\n",
        "        print(unexpected_error_message)  # Print to console\n",
        "        logging.error(unexpected_error_message)  # Log unexpected errors\n",
        "\n",
        "# Test the function\n",
        "divide_numbers(10, 2)  # Valid division\n",
        "divide_numbers(10, 0)  # Division by zero"
      ],
      "metadata": {
        "colab": {
          "base_uri": "https://localhost:8080/"
        },
        "id": "jJyStjEwcanZ",
        "outputId": "54116570-332e-47dc-8ab9-0e5e773d4669"
      },
      "execution_count": 2,
      "outputs": [
        {
          "output_type": "stream",
          "name": "stderr",
          "text": [
            "ERROR:root:Error: Division by zero is not allowed.\n"
          ]
        },
        {
          "output_type": "stream",
          "name": "stdout",
          "text": [
            "The result of 10 divided by 2 is 5.0.\n",
            "Error: Division by zero is not allowed.\n"
          ]
        }
      ]
    },
    {
      "cell_type": "code",
      "source": [
        "#7  How do you log information at different levels (INFO, ERROR, WARNING) in Python using the logging module\u001f\n",
        "import logging\n",
        "\n",
        "# Configure the logging\n",
        "logging.basicConfig(filename='app.log', level=logging.DEBUG,\n",
        "                    format='%(asctime)s - %(levelname)s - %(message)s')\n",
        "\n",
        "def log_messages():\n",
        "    logging.debug(\"This is a debug message.\")\n",
        "    logging.info(\"This is an info message.\")\n",
        "    logging.warning(\"This is a warning message.\")\n",
        "    logging.error(\"This is an error message.\")\n",
        "    logging.critical(\"This is a critical message.\")\n",
        "\n",
        "# Call the function to log messages\n",
        "log_messages()"
      ],
      "metadata": {
        "colab": {
          "base_uri": "https://localhost:8080/"
        },
        "id": "6C2kpGdLclbS",
        "outputId": "1688c3bf-78df-433b-f5a7-76c637efd1fe"
      },
      "execution_count": 3,
      "outputs": [
        {
          "output_type": "stream",
          "name": "stderr",
          "text": [
            "WARNING:root:This is a warning message.\n",
            "ERROR:root:This is an error message.\n",
            "CRITICAL:root:This is a critical message.\n"
          ]
        }
      ]
    },
    {
      "cell_type": "code",
      "source": [
        "#8 Write a program to handle a file opening error using exception handling?\n",
        "def read_file(filename):\n",
        "    try:\n",
        "        # Attempt to open the file for reading\n",
        "        with open(filename, 'r') as file:\n",
        "            # Read and print the contents of the file\n",
        "            contents = file.read()\n",
        "            print(contents)\n",
        "    except FileNotFoundError:\n",
        "        print(f\"Error: The file '{filename}' does not exist.\")\n",
        "    except PermissionError:\n",
        "        print(f\"Error: You do not have permission to read the file '{filename}'.\")\n",
        "    except Exception as e:\n",
        "        print(f\"An unexpected error occurred: {e}\")\n",
        "\n",
        "# Specify the filename to read\n",
        "filename = 'example.txt'\n",
        "\n",
        "# Call the function to read the file\n",
        "read_file(filename)\n"
      ],
      "metadata": {
        "colab": {
          "base_uri": "https://localhost:8080/"
        },
        "id": "-5kka_5ucuh-",
        "outputId": "d1af0844-69ce-477a-953a-e88c37c6a8b1"
      },
      "execution_count": 4,
      "outputs": [
        {
          "output_type": "stream",
          "name": "stdout",
          "text": [
            "Error: The file 'example.txt' does not exist.\n"
          ]
        }
      ]
    },
    {
      "cell_type": "code",
      "source": [
        "#9 How can you read a file line by line and store its content in a list in Python?\n",
        "def read_file_to_list(filename):\n",
        "    lines = []  # Initialize an empty list to store lines\n",
        "    try:\n",
        "        with open(filename, 'r') as file:\n",
        "            for line in file:\n",
        "                lines.append(line.strip())  # Append each line to the list, stripping whitespace\n",
        "    except FileNotFoundError:\n",
        "        print(f\"Error: The file '{filename}' does not exist.\")\n",
        "    except Exception as e:\n",
        "        print(f\"An unexpected error occurred: {e}\")\n",
        "    return lines\n",
        "\n",
        "# Specify the filename to read\n",
        "filename = 'example.txt'\n",
        "\n",
        "# Call the function and store the result in a list\n",
        "lines_list = read_file_to_list(filename)\n",
        "\n",
        "# Print the list of lines\n",
        "print(lines_list)\n"
      ],
      "metadata": {
        "colab": {
          "base_uri": "https://localhost:8080/"
        },
        "id": "FfUpxO2Gc7yb",
        "outputId": "5960899b-c9f7-4b4c-e96b-3232868e022a"
      },
      "execution_count": 5,
      "outputs": [
        {
          "output_type": "stream",
          "name": "stdout",
          "text": [
            "Error: The file 'example.txt' does not exist.\n",
            "[]\n"
          ]
        }
      ]
    },
    {
      "cell_type": "code",
      "source": [
        "#10. How can you append data to an existing file in Python?\n",
        "\n",
        "def append_to_file(filename, data):\n",
        "    try:\n",
        "        # Open the file in append mode\n",
        "        with open(filename, 'a') as file:\n",
        "            file.write(data + '\\n')  # Write the data followed by a newline\n",
        "        print(f\"Data appended to '{filename}' successfully.\")\n",
        "    except Exception as e:\n",
        "        print(f\"An error occurred: {e}\")\n",
        "\n",
        "# Specify the filename and the data to append\n",
        "filename = 'example.txt'\n",
        "data_to_append = \"This is a new line of text.\"\n",
        "\n",
        "# Call the function to append data to the file\n",
        "append_to_file(filename, data_to_append)"
      ],
      "metadata": {
        "colab": {
          "base_uri": "https://localhost:8080/"
        },
        "id": "kgyy7WqpdzIQ",
        "outputId": "c45171bb-0b86-4089-d15a-093f5281a4e2"
      },
      "execution_count": 8,
      "outputs": [
        {
          "output_type": "stream",
          "name": "stdout",
          "text": [
            "Data appended to 'example.txt' successfully.\n"
          ]
        }
      ]
    },
    {
      "cell_type": "code",
      "source": [
        "#11. Write a Python program that uses a try-except block to handle an error when attempting to access a\n",
        "#dictionary key that doesn't exist?\n",
        "\n",
        "def access_dictionary_key(my_dict, key):\n",
        "    try:\n",
        "        # Attempt to access the value associated with the key\n",
        "        value = my_dict[key]\n",
        "        print(f\"The value for '{key}' is: {value}\")\n",
        "    except KeyError:\n",
        "        print(f\"Error: The key '{key}' does not exist in the dictionary.\")\n",
        "    except Exception as e:\n",
        "        print(f\"An unexpected error occurred: {e}\")\n",
        "\n",
        "# Sample dictionary\n",
        "sample_dict = {\n",
        "    'name': 'Alice',\n",
        "    'age': 30,\n",
        "    'city': 'New York'\n",
        "}\n",
        "\n",
        "# Specify the key to access\n",
        "key_to_access = 'country'  # This key does not exist in the sample_dict\n",
        "\n",
        "# Call the function to access the dictionary key\n",
        "access_dictionary_key(sample_dict, key_to_access)"
      ],
      "metadata": {
        "colab": {
          "base_uri": "https://localhost:8080/"
        },
        "id": "6cDTw9FOeD6d",
        "outputId": "292e154f-6c78-421f-e17b-ed6e979406a9"
      },
      "execution_count": 9,
      "outputs": [
        {
          "output_type": "stream",
          "name": "stdout",
          "text": [
            "Error: The key 'country' does not exist in the dictionary.\n"
          ]
        }
      ]
    },
    {
      "cell_type": "code",
      "source": [
        "#12.Write a program that demonstrates using multiple except blocks to handle different types of exceptions?\n",
        "def demonstrate_exceptions():\n",
        "    # Example 1: Division by zero\n",
        "    try:\n",
        "        numerator = 10\n",
        "        denominator = 0\n",
        "        result = numerator / denominator\n",
        "        print(f\"Result of division: {result}\")\n",
        "    except ZeroDivisionError:\n",
        "        print(\"Error: Cannot divide by zero.\")\n",
        "\n",
        "    # Example 2: Index out of range\n",
        "    try:\n",
        "        my_list = [1, 2, 3]\n",
        "        index = 5  # This index does not exist\n",
        "        value = my_list[index]\n",
        "        print(f\"Value at index {index}: {value}\")\n",
        "    except IndexError:\n",
        "        print(\"Error: Index out of range.\")\n",
        "\n",
        "    # Example 3: ValueError when converting string to integer\n",
        "    try:\n",
        "        string_value = \"abc\"  # This cannot be converted to an integer\n",
        "        number = int(string_value)\n",
        "        print(f\"Converted number: {number}\")\n",
        "    except ValueError:\n",
        "        print(\"Error: Cannot convert string to integer.\")\n",
        "\n",
        "    # Example 4: General exception handling\n",
        "    try:\n",
        "        # This will raise a TypeError\n",
        "        result = \"string\" + 5\n",
        "        print(f\"Result: {result}\")\n",
        "    except TypeError:\n",
        "        print(\"Error: Type mismatch in operation.\")\n",
        "\n",
        "# Call the function to demonstrate exception handling\n",
        "demonstrate_exceptions()\n"
      ],
      "metadata": {
        "colab": {
          "base_uri": "https://localhost:8080/"
        },
        "id": "m298MN8veOm3",
        "outputId": "1b3597c2-a1ee-42d9-e32c-938a2c36b22b"
      },
      "execution_count": 10,
      "outputs": [
        {
          "output_type": "stream",
          "name": "stdout",
          "text": [
            "Error: Cannot divide by zero.\n",
            "Error: Index out of range.\n",
            "Error: Cannot convert string to integer.\n",
            "Error: Type mismatch in operation.\n"
          ]
        }
      ]
    },
    {
      "cell_type": "code",
      "source": [
        "#13.How would you check if a file exists before attempting to read it in Python?\n",
        "\n",
        "import os\n",
        "\n",
        "def read_file_if_exists(filename):\n",
        "    if os.path.exists(filename):\n",
        "        with open(filename, 'r') as file:\n",
        "            contents = file.read()\n",
        "            print(contents)\n",
        "    else:\n",
        "        print(f\"Error: The file '{filename}' does not exist.\")\n",
        "\n",
        "# Specify the filename to read\n",
        "filename = 'example.txt'\n",
        "\n",
        "# Call the function to read the file if it exists\n",
        "read_file_if_exists(filename)"
      ],
      "metadata": {
        "colab": {
          "base_uri": "https://localhost:8080/"
        },
        "id": "n-M3LS_qeZU3",
        "outputId": "5e4ce19a-a3d2-4eee-f5ae-4bd2be80126b"
      },
      "execution_count": 11,
      "outputs": [
        {
          "output_type": "stream",
          "name": "stdout",
          "text": [
            "This is a new line of text.\n",
            "\n"
          ]
        }
      ]
    },
    {
      "cell_type": "code",
      "source": [
        "#14. Write a program that uses the logging module to log both informational and error messages?\n",
        "import logging\n",
        "\n",
        "# Configure the logging\n",
        "logging.basicConfig(\n",
        "    filename='app.log',  # Log messages will be written to this file\n",
        "    level=logging.DEBUG,  # Set the logging level to DEBUG to capture all levels\n",
        "    format='%(asctime)s - %(levelname)s - %(message)s'  # Log message format\n",
        ")\n",
        "\n",
        "def perform_operations():\n",
        "    logging.info(\"Starting the operations...\")  # Log an informational message\n",
        "\n",
        "    try:\n",
        "        # Example operation: division\n",
        "        numerator = 10\n",
        "        denominator = 0  # This will cause a division by zero error\n",
        "        result = numerator / denominator\n",
        "        logging.info(f\"Result of division: {result}\")\n",
        "    except ZeroDivisionError:\n",
        "        logging.error(\"Error: Attempted to divide by zero.\")  # Log an error message\n",
        "\n",
        "    try:\n",
        "        # Example operation: accessing a list index\n",
        "        my_list = [1, 2, 3]\n",
        "        index = 5  # This index does not exist\n",
        "        value = my_list[index]\n",
        "        logging.info(f\"Value at index {index}: {value}\")\n",
        "    except IndexError:\n",
        "        logging.error(\"Error: Index out of range.\")  # Log an error message\n",
        "\n",
        "    logging.info(\"Operations completed.\")  # Log an informational message\n",
        "\n",
        "# Call the function to perform operations and log messages\n",
        "perform_operations()"
      ],
      "metadata": {
        "colab": {
          "base_uri": "https://localhost:8080/"
        },
        "id": "C9Omq1CnelVp",
        "outputId": "579c6633-e98c-4a23-cb60-88732f9a2be9"
      },
      "execution_count": 12,
      "outputs": [
        {
          "output_type": "stream",
          "name": "stderr",
          "text": [
            "ERROR:root:Error: Attempted to divide by zero.\n",
            "ERROR:root:Error: Index out of range.\n"
          ]
        }
      ]
    },
    {
      "cell_type": "code",
      "source": [
        "#15.Write a Python program that prints the content of a file and handles the case when the file is empty?\n",
        "def print_file_contents(filename):\n",
        "    try:\n",
        "        with open(filename, 'r') as file:\n",
        "            contents = file.read()  # Read the contents of the file\n",
        "\n",
        "            # Check if the file is empty\n",
        "            if not contents:\n",
        "                print(f\"The file '{filename}' is empty.\")\n",
        "            else:\n",
        "                print(f\"Contents of '{filename}':\")\n",
        "                print(contents)\n",
        "    except FileNotFoundError:\n",
        "        print(f\"Error: The file '{filename}' does not exist.\")\n",
        "    except Exception as e:\n",
        "        print(f\"An unexpected error occurred: {e}\")\n",
        "\n",
        "# Specify the filename to read\n",
        "filename = 'example.txt'\n",
        "\n",
        "# Call the function to print the file contents\n",
        "print_file_contents(filename)\n"
      ],
      "metadata": {
        "colab": {
          "base_uri": "https://localhost:8080/"
        },
        "id": "JMzv-2-Be0PP",
        "outputId": "f457c800-ac92-453d-95f1-c9c47b3ea48b"
      },
      "execution_count": 13,
      "outputs": [
        {
          "output_type": "stream",
          "name": "stdout",
          "text": [
            "Contents of 'example.txt':\n",
            "This is a new line of text.\n",
            "\n"
          ]
        }
      ]
    },
    {
      "cell_type": "code",
      "source": [
        "#16. Demonstrate how to use memory profiling to check the memory usage of a small program?\n",
        "import tracemalloc\n",
        "\n",
        "def app():\n",
        "    lt = []\n",
        "    for i in range(0, 100000):\n",
        "        lt.append(i)\n",
        "\n",
        "# Start memory tracking\n",
        "tracemalloc.start()\n",
        "\n",
        "# Call the function\n",
        "app()\n",
        "\n",
        "# Display the current and peak memory usage\n",
        "current, peak = tracemalloc.get_traced_memory()\n",
        "print(f\"Current memory usage: {current / 10**6:.2f} MB; Peak was {peak / 10**6:.2f} MB\")\n",
        "\n",
        "# Stop the memory tracking\n",
        "tracemalloc.stop()\n"
      ],
      "metadata": {
        "colab": {
          "base_uri": "https://localhost:8080/"
        },
        "id": "C3Ap0ueie_VD",
        "outputId": "913e0509-0597-47f7-c52b-73fc07d55a80"
      },
      "execution_count": 14,
      "outputs": [
        {
          "output_type": "stream",
          "name": "stdout",
          "text": [
            "Current memory usage: 0.00 MB; Peak was 3.99 MB\n"
          ]
        }
      ]
    },
    {
      "cell_type": "code",
      "source": [
        "#17.Write a Python program to create and write a list of numbers to a file, one number per line?\n",
        "def write_numbers_to_file(filename, numbers):\n",
        "    try:\n",
        "        with open(filename, 'w') as file:  # Open the file in write mode\n",
        "            for number in numbers:\n",
        "                file.write(f\"{number}\\n\")  # Write each number followed by a newline\n",
        "        print(f\"Numbers have been written to '{filename}' successfully.\")\n",
        "    except Exception as e:\n",
        "        print(f\"An error occurred: {e}\")\n",
        "\n",
        "# List of numbers to write to the file\n",
        "numbers_list = [1, 2, 3, 4, 5, 6, 7, 8, 9, 10]\n",
        "\n",
        "# Specify the filename\n",
        "filename = 'numbers.txt'\n",
        "\n",
        "# Call the function to write the numbers to the file\n",
        "write_numbers_to_file(filename, numbers_list)\n"
      ],
      "metadata": {
        "colab": {
          "base_uri": "https://localhost:8080/"
        },
        "id": "DlMzpK5HfIEv",
        "outputId": "58565c32-77ed-45ee-9f17-26bf1dd2d79d"
      },
      "execution_count": 15,
      "outputs": [
        {
          "output_type": "stream",
          "name": "stdout",
          "text": [
            "Numbers have been written to 'numbers.txt' successfully.\n"
          ]
        }
      ]
    },
    {
      "cell_type": "code",
      "source": [
        "#18.How would you implement a basic logging setup that logs to a file with rotation after 1MB?\n",
        "\n",
        "def access_data():\n",
        "    my_list = [1, 2, 3]\n",
        "    my_dict = {'a': 1, 'b': 2, 'c': 3}\n",
        "\n",
        "    try:\n",
        "        # Attempt to access an index in the list\n",
        "        index = 5  # This index does not exist\n",
        "        print(f\"Accessing list at index {index}: {my_list[index]}\")\n",
        "\n",
        "        # Attempt to access a key in the dictionary\n",
        "        key = 'd'  # This key does not exist\n",
        "        print(f\"Accessing dictionary with key '{key}': {my_dict[key]}\")\n",
        "\n",
        "    except IndexError as ie:\n",
        "        print(f\"IndexError: {ie} - The index you are trying to access is out of range.\")\n",
        "\n",
        "    except KeyError as ke:\n",
        "        print(f\"KeyError: {ke} - The key you are trying to access does not exist.\")\n",
        "\n",
        "# Call the function to demonstrate exception handling\n",
        "access_data()"
      ],
      "metadata": {
        "colab": {
          "base_uri": "https://localhost:8080/"
        },
        "id": "wpSqHw0Nfw_9",
        "outputId": "f868dbfd-1591-4598-9b16-24cb4c49f8cc"
      },
      "execution_count": 17,
      "outputs": [
        {
          "output_type": "stream",
          "name": "stdout",
          "text": [
            "IndexError: list index out of range - The index you are trying to access is out of range.\n"
          ]
        }
      ]
    },
    {
      "cell_type": "code",
      "source": [
        "#19Write a program that handles both IndexError and KeyError using a try-except block?\n",
        "def access_data():\n",
        "    my_list = [10, 20, 30]  # A list with three elements\n",
        "    my_dict = {'a': 1, 'b': 2, 'c': 3}  # A dictionary with three key-value pairs\n",
        "\n",
        "    try:\n",
        "        # Attempt to access an index in the list\n",
        "        index = 3  # This index does not exist\n",
        "        print(f\"Accessing list at index {index}: {my_list[index]}\")\n",
        "\n",
        "        # Attempt to access a key in the dictionary\n",
        "        key = 'd'  # This key does not exist\n",
        "        print(f\"Accessing dictionary with key '{key}': {my_dict[key]}\")\n",
        "\n",
        "    except IndexError as ie:\n",
        "        print(f\"IndexError: {ie} - The index you are trying to access is out of range.\")\n",
        "\n",
        "    except KeyError as ke:\n",
        "        print(f\"KeyError: {ke} - The key you are trying to access does not exist.\")\n",
        "\n",
        "# Call the function to demonstrate exception handling\n",
        "access_data()\n"
      ],
      "metadata": {
        "colab": {
          "base_uri": "https://localhost:8080/"
        },
        "id": "l3WHzf9CgERE",
        "outputId": "6c4e1500-db6c-4414-87e8-bfe750bb81db"
      },
      "execution_count": 18,
      "outputs": [
        {
          "output_type": "stream",
          "name": "stdout",
          "text": [
            "IndexError: list index out of range - The index you are trying to access is out of range.\n"
          ]
        }
      ]
    },
    {
      "cell_type": "code",
      "source": [
        "#20.How would you open a file and read its contents using a context manager in Python?\n",
        "def read_file_contents(filename):\n",
        "    try:\n",
        "        # Use a context manager to open the file\n",
        "        with open(filename, 'r') as file:  # Open the file in read mode\n",
        "            contents = file.read()  # Read the entire contents of the file\n",
        "            return contents  # Return the contents\n",
        "    except FileNotFoundError:\n",
        "        return f\"Error: The file '{filename}' does not exist.\"\n",
        "    except Exception as e:\n",
        "        return f\"An unexpected error occurred: {e}\"\n",
        "\n",
        "# Specify the filename\n",
        "filename = 'example.txt'\n",
        "\n",
        "# Call the function and print the contents\n",
        "file_contents = read_file_contents(filename)\n",
        "print(file_contents)\n"
      ],
      "metadata": {
        "colab": {
          "base_uri": "https://localhost:8080/"
        },
        "id": "btOFeD-ZgUiv",
        "outputId": "db6e0d01-20e7-4013-f22e-b9ca1d8bd394"
      },
      "execution_count": 19,
      "outputs": [
        {
          "output_type": "stream",
          "name": "stdout",
          "text": [
            "This is a new line of text.\n",
            "\n"
          ]
        }
      ]
    },
    {
      "cell_type": "code",
      "source": [
        "#21. Write a Python program that reads a file and prints the number of occurrences of a specific word?\n",
        "\n",
        "def count_word_occurrences(filename, target_word):\n",
        "    try:\n",
        "        with open(filename, 'r') as file:  # Open the file in read mode\n",
        "            contents = file.read()  # Read the entire contents of the file\n",
        "\n",
        "            # Count occurrences of the target word\n",
        "            word_count = contents.lower().split().count(target_word.lower())\n",
        "            return word_count\n",
        "    except FileNotFoundError:\n",
        "        return f\"Error: The file '{filename}' does not exist.\"\n",
        "    except Exception as e:\n",
        "        return f\"An unexpected error occurred: {e}\"\n",
        "\n",
        "# Main function to execute the program\n",
        "def main():\n",
        "    # Get the filename and target word from the user\n",
        "    filename = input(\"Enter the filename: \")\n",
        "    target_word = input(\"Enter the word to count: \")\n",
        "\n",
        "    # Count occurrences of the word and print the result\n",
        "    occurrences = count_word_occurrences(filename, target_word)\n",
        "    print(f\"The word '{target_word}' occurs {occurrences} times in the file '{filename}'.\")\n",
        "\n",
        "if __name__ == \"__main__\":\n",
        "    main()"
      ],
      "metadata": {
        "colab": {
          "base_uri": "https://localhost:8080/"
        },
        "id": "uKebX6Dag2yJ",
        "outputId": "7c39c986-690c-4565-d023-7d934d496a96"
      },
      "execution_count": 20,
      "outputs": [
        {
          "output_type": "stream",
          "name": "stdout",
          "text": [
            "Enter the filename: txt\n",
            "Enter the word to count: python\n",
            "The word 'python' occurs Error: The file 'txt' does not exist. times in the file 'txt'.\n"
          ]
        }
      ]
    },
    {
      "cell_type": "code",
      "source": [
        "#22.How can you check if a file is empty before attempting to read its contents?\n",
        "\n",
        "import os\n",
        "\n",
        "def is_file_empty(filename):\n",
        "    \"\"\"Check if the file is empty.\"\"\"\n",
        "    return os.path.getsize(filename) == 0\n",
        "\n",
        "def read_file_contents(filename):\n",
        "    \"\"\"Read the contents of the file if it is not empty.\"\"\"\n",
        "    try:\n",
        "        if is_file_empty(filename):\n",
        "            print(f\"The file '{filename}' is empty.\")\n",
        "            return None\n",
        "\n",
        "        with open(filename, 'r') as file:  # Open the file in read mode\n",
        "            contents = file.read()  # Read the entire contents of the file\n",
        "            return contents  # Return the contents\n",
        "    except FileNotFoundError:\n",
        "        return f\"Error: The file '{filename}' does not exist.\"\n",
        "    except Exception as e:\n",
        "        return f\"An unexpected error occurred: {e}\"\n",
        "\n",
        "# Main function to execute the program\n",
        "def main():\n",
        "    # Get the filename from the user\n",
        "    filename = input(\"Enter the filename: \")\n",
        "\n",
        "    # Read the file contents and print the result\n",
        "    file_contents = read_file_contents(filename)\n",
        "    if file_contents is not None:\n",
        "        print(f\"Contents of the file '{filename}':\")\n",
        "        print(file_contents)\n",
        "\n",
        "if __name__ == \"__main__\":\n",
        "    main()"
      ],
      "metadata": {
        "colab": {
          "base_uri": "https://localhost:8080/"
        },
        "id": "RbDctKPVhBb8",
        "outputId": "22b7938b-d6c9-419f-e5de-31b84bc0baf8"
      },
      "execution_count": 21,
      "outputs": [
        {
          "output_type": "stream",
          "name": "stdout",
          "text": [
            "Enter the filename: txt\n",
            "Contents of the file 'txt':\n",
            "Error: The file 'txt' does not exist.\n"
          ]
        }
      ]
    },
    {
      "cell_type": "code",
      "source": [
        "#23.Write a Python program that writes to a log file when an error occurs during file handling.\n",
        "import logging\n",
        "\n",
        "# Configure logging\n",
        "logging.basicConfig(\n",
        "    filename='file_handling_errors.log',  # Log file name\n",
        "    level=logging.ERROR,  # Log level\n",
        "    format='%(asctime)s - %(levelname)s - %(message)s'  # Log message format\n",
        ")\n",
        "\n",
        "def read_file_contents(filename):\n",
        "    \"\"\"Read the contents of the file and log errors if they occur.\"\"\"\n",
        "    try:\n",
        "        with open(filename, 'r') as file:  # Open the file in read mode\n",
        "            contents = file.read()  # Read the entire contents of the file\n",
        "            return contents  # Return the contents\n",
        "    except FileNotFoundError as e:\n",
        "        logging.error(f\"FileNotFoundError: {e} - The file '{filename}' does not exist.\")\n",
        "        return f\"Error: The file '{filename}' does not exist.\"\n",
        "    except IOError as e:\n",
        "        logging.error(f\"IOError: {e} - An error occurred while reading the file '{filename}'.\")\n",
        "        return f\"Error: An error occurred while reading the file '{filename}'.\"\n",
        "    except Exception as e:\n",
        "        logging.error(f\"Unexpected error: {e} - An unexpected error occurred.\")\n",
        "        return \"An unexpected error occurred.\"\n",
        "\n",
        "# Main function to execute the program\n",
        "def main():\n",
        "    # Get the filename from the user\n",
        "    filename = input(\"Enter the filename to read: \")\n",
        "\n",
        "    # Read the file contents and print the result\n",
        "    file_contents = read_file_contents(filename)\n",
        "    print(file_contents)\n",
        "\n",
        "if __name__ == \"__main__\":\n",
        "    main()"
      ],
      "metadata": {
        "colab": {
          "base_uri": "https://localhost:8080/"
        },
        "id": "9MtFZ1jIhiJU",
        "outputId": "ba526634-2e34-4812-bd6f-1a7fdaa7483f"
      },
      "execution_count": 22,
      "outputs": [
        {
          "name": "stdout",
          "output_type": "stream",
          "text": [
            "Enter the filename to read: txt\n"
          ]
        },
        {
          "output_type": "stream",
          "name": "stderr",
          "text": [
            "ERROR:root:FileNotFoundError: [Errno 2] No such file or directory: 'txt' - The file 'txt' does not exist.\n"
          ]
        },
        {
          "output_type": "stream",
          "name": "stdout",
          "text": [
            "Error: The file 'txt' does not exist.\n"
          ]
        }
      ]
    }
  ]
}